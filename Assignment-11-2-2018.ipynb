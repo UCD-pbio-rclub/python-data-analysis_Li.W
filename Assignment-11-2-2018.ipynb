{
 "cells": [
  {
   "cell_type": "code",
   "execution_count": 80,
   "metadata": {},
   "outputs": [
    {
     "name": "stdout",
     "output_type": "stream",
     "text": [
      " the process took 0.949 seconds\n"
     ]
    }
   ],
   "source": [
    "import time\n",
    "\n",
    "a = 0  # will be used in my loop\n",
    "\n",
    "t1 = time.process_time() # get the current time\n",
    "\n",
    "for i in range(0,10000000):  # a statement to test\n",
    "    a = a  + 1\n",
    "    \n",
    "elapsed = time.process_time() - t1 \n",
    "\n",
    "\n",
    "print(' the process took {0:.3f} seconds'.format(elapsed))"
   ]
  },
  {
   "cell_type": "code",
   "execution_count": 84,
   "metadata": {},
   "outputs": [
    {
     "data": {
      "text/plain": [
       "5.186745882965624"
      ]
     },
     "execution_count": 84,
     "metadata": {},
     "output_type": "execute_result"
    }
   ],
   "source": [
    "import timeit \n",
    "\n",
    "# note timeit runs the statement 1,000,000 times by default, so \n",
    "# I use a shorter loop\n",
    "\n",
    "stmt = \"\"\"\\\n",
    "for i in range(0,100):  # a statement to test\n",
    "    a = a  + 1\n",
    "\"\"\"\n",
    "\n",
    "timeit.timeit(stmt, setup='a = 0')"
   ]
  },
  {
   "cell_type": "code",
   "execution_count": 14,
   "metadata": {},
   "outputs": [
    {
     "name": "stdout",
     "output_type": "stream",
     "text": [
      "1.24 µs ± 55.5 ns per loop (mean ± std. dev. of 7 runs, 1000000 loops each)\n"
     ]
    }
   ],
   "source": [
    "#list creation\n",
    "import timeit\n",
    "%timeit list(range(100))"
   ]
  },
  {
   "cell_type": "code",
   "execution_count": 79,
   "metadata": {},
   "outputs": [
    {
     "name": "stdout",
     "output_type": "stream",
     "text": [
      "CPU times: user 18 µs, sys: 1 µs, total: 19 µs\n",
      "Wall time: 24.1 µs\n"
     ]
    }
   ],
   "source": [
    "#list creation\n",
    "a4=[1,2,3]\n",
    "import time\n",
    "%time for _ in range(100): my_list3 =a4"
   ]
  },
  {
   "cell_type": "code",
   "execution_count": 15,
   "metadata": {},
   "outputs": [
    {
     "name": "stdout",
     "output_type": "stream",
     "text": [
      "1.15 µs ± 31.5 ns per loop (mean ± std. dev. of 7 runs, 1000000 loops each)\n"
     ]
    }
   ],
   "source": [
    "#tuple creation\n",
    "import timeit\n",
    "%timeit tuple(range(100))"
   ]
  },
  {
   "cell_type": "code",
   "execution_count": 53,
   "metadata": {},
   "outputs": [
    {
     "name": "stdout",
     "output_type": "stream",
     "text": [
      "CPU times: user 11 µs, sys: 1e+03 ns, total: 12 µs\n",
      "Wall time: 16.2 µs\n"
     ]
    }
   ],
   "source": [
    "#tuple creation\n",
    "b=(1,2,3)\n",
    "import time\n",
    "%time for _ in range(100): my_tuple3 =b"
   ]
  },
  {
   "cell_type": "code",
   "execution_count": 93,
   "metadata": {},
   "outputs": [
    {
     "name": "stdout",
     "output_type": "stream",
     "text": [
      " the process took 0.000 seconds\n"
     ]
    }
   ],
   "source": [
    "# list concatenation\n",
    "import time\n",
    "\n",
    "a2 = []  # will be used in my loop\n",
    "\n",
    "t1 = time.process_time() # get the current time\n",
    "\n",
    "for i in range(0,100):  # a statement to test\n",
    "    a2 = a2  + [1,2,3]\n",
    "    \n",
    "elapsed = time.process_time() - t1 \n",
    "\n",
    "print(' the process took {0:.3f} seconds'.format(elapsed))"
   ]
  },
  {
   "cell_type": "code",
   "execution_count": 78,
   "metadata": {},
   "outputs": [
    {
     "name": "stdout",
     "output_type": "stream",
     "text": [
      "CPU times: user 18 µs, sys: 1e+03 ns, total: 19 µs\n",
      "Wall time: 22.2 µs\n"
     ]
    }
   ],
   "source": [
    "#list concatenation\n",
    "a3=[1,2,3]\n",
    "import time\n",
    "%time for _ in range(100): my_list2 =a3+a3"
   ]
  },
  {
   "cell_type": "code",
   "execution_count": 43,
   "metadata": {},
   "outputs": [
    {
     "name": "stdout",
     "output_type": "stream",
     "text": [
      "CPU times: user 33 µs, sys: 5 µs, total: 38 µs\n",
      "Wall time: 54.8 µs\n"
     ]
    }
   ],
   "source": [
    "#tuple concatenation\n",
    "b=(1,2,3)\n",
    "import time\n",
    "%time for _ in range(100): my_tuple2 =b+b"
   ]
  },
  {
   "cell_type": "code",
   "execution_count": 91,
   "metadata": {},
   "outputs": [
    {
     "name": "stdout",
     "output_type": "stream",
     "text": [
      " the process took 0.000 seconds\n"
     ]
    }
   ],
   "source": [
    "# tuple concatenation\n",
    "import time\n",
    "\n",
    "a1 = ()  # will be used in my loop\n",
    "\n",
    "t1 = time.process_time() # get the current time\n",
    "\n",
    "for i in range(0,100):  # a statement to test\n",
    "    a1 = a1  + (1,2,3)\n",
    "    \n",
    "elapsed = time.process_time() - t1 \n",
    "\n",
    "print(' the process took {0:.3f} seconds'.format(elapsed))"
   ]
  },
  {
   "cell_type": "code",
   "execution_count": 97,
   "metadata": {},
   "outputs": [
    {
     "name": "stdout",
     "output_type": "stream",
     "text": [
      " the process took 0.000 seconds\n"
     ]
    }
   ],
   "source": [
    "#3\n",
    "list1 = [1,2,3,4,9,11,22,34] \n",
    "list1.sort()\n",
    "import time\n",
    "\n",
    "t1 = time.process_time() # get the current time\n",
    "\n",
    "list1.extend([3])\n",
    "list1.sort()\n",
    "\n",
    "elapsed = time.process_time() - t1 \n",
    "\n",
    "print(' the process took {0:.3f} seconds'.format(elapsed))"
   ]
  },
  {
   "cell_type": "code",
   "execution_count": null,
   "metadata": {},
   "outputs": [],
   "source": []
  }
 ],
 "metadata": {
  "kernelspec": {
   "display_name": "Python 3",
   "language": "python",
   "name": "python3"
  },
  "language_info": {
   "codemirror_mode": {
    "name": "ipython",
    "version": 3
   },
   "file_extension": ".py",
   "mimetype": "text/x-python",
   "name": "python",
   "nbconvert_exporter": "python",
   "pygments_lexer": "ipython3",
   "version": "3.6.6"
  }
 },
 "nbformat": 4,
 "nbformat_minor": 2
}
