{
 "cells": [
  {
   "cell_type": "code",
   "execution_count": 4,
   "metadata": {},
   "outputs": [
    {
     "data": {
      "text/plain": [
       "(100, 36)"
      ]
     },
     "execution_count": 4,
     "metadata": {},
     "output_type": "execute_result"
    }
   ],
   "source": [
    "# %load 1116_problem_set.py\n",
    "import pandas as pd\n",
    "\n",
    "import numpy as np\n",
    "\n",
    "# problems for Nov 16\n",
    "\n",
    "# import the data set\n",
    "\n",
    "data = pd.read_csv(\"data/Brapa_cpm.csv\")\n",
    "\n",
    "data = np.array(data)\n",
    "\n",
    "data.shape\n",
    "\n",
    "# rows are genes (100 genes), columns are samples (36)\n",
    "\n",
    "# Q1: make a new array where the values are converted to log2 cpm\n",
    "\n",
    "# Q2: Which gene has the highest expression?\n",
    "\n",
    "# Q3: Make a new array in which each row is sorted by expression\n",
    "\n",
    "# Q4: Make a new array in which the samples are sorted according to average expression.  NOTE this is different than sorting each row...explain how\n",
    "\n",
    "# Q5: what is the total number of unique values in the table?\n",
    "\n",
    "# Q6: Make a new array in which any cell that has less than 10 cpm is replaced with 0\n",
    "\n",
    "# Q7: Make a new array that only retains genes that are expressed at > 10 cpm in at least half the samples.  (I haven't checked, maybe all genes will pass)\n",
    "\n",
    "# Q8 calculate the standard deviation for each gene using the builtin function\n",
    "\n",
    "# Q9 calcualte the standard deviation for each gene WITHOUT using the builtin function\n",
    "\n",
    "# Q10 create a slice that contains the first 10 samples\n",
    "\n",
    "# Q11 Changing topics...generate and plot a 2D random walk (see Chapter 4.7)\n",
    "\n",
    "\n"
   ]
  },
  {
   "cell_type": "code",
   "execution_count": 34,
   "metadata": {},
   "outputs": [],
   "source": [
    "#Q1: make a new array where the values are converted to log2 cpm\n",
    "np.warnings.filterwarnings('ignore')# ignore 'RuntimeWarning: invalid value encountered in log2'\n",
    "data_log = np.log2(data+0.000001)"
   ]
  },
  {
   "cell_type": "code",
   "execution_count": 28,
   "metadata": {},
   "outputs": [
    {
     "data": {
      "text/plain": [
       "array([[-0.38126432, -1.62549129, -1.25391469, ...,         nan,\n",
       "                nan,         nan],\n",
       "       [ 3.95531721,  3.66145389,  3.61294053, ...,  4.24737063,\n",
       "         4.13091887,  3.97761576],\n",
       "       [-0.37564301, -0.02549338, -0.44656124, ...,  3.00463068,\n",
       "         2.51369371,  3.03668115],\n",
       "       ...,\n",
       "       [ 3.74801692,  3.63189222,  3.82289757, ...,  4.00824282,\n",
       "         3.70834099,  4.04466963],\n",
       "       [ 3.68912324,  3.71435437,  3.93201787, ...,  4.73930778,\n",
       "         5.21552837,  4.96191171],\n",
       "       [ 2.54473346,  0.18186046,  0.55343778, ...,  2.99839513,\n",
       "         2.44810538,  2.76240588]])"
      ]
     },
     "execution_count": 28,
     "metadata": {},
     "output_type": "execute_result"
    }
   ],
   "source": [
    "data_log"
   ]
  },
  {
   "cell_type": "code",
   "execution_count": 37,
   "metadata": {},
   "outputs": [
    {
     "data": {
      "text/plain": [
       "2992"
      ]
     },
     "execution_count": 37,
     "metadata": {},
     "output_type": "execute_result"
    }
   ],
   "source": [
    "# Q2: Which gene has the highest expression?\n",
    "np.argmax(data) #argmax: Return the indices of the maximum values; #the number at theposition of 2992 is the highest"
   ]
  },
  {
   "cell_type": "code",
   "execution_count": 39,
   "metadata": {},
   "outputs": [
    {
     "data": {
      "text/plain": [
       "785.02"
      ]
     },
     "execution_count": 39,
     "metadata": {},
     "output_type": "execute_result"
    }
   ],
   "source": [
    "np.amax(data)#amax: Return the maximum of an array or maximum along an axis"
   ]
  },
  {
   "cell_type": "code",
   "execution_count": 42,
   "metadata": {},
   "outputs": [
    {
     "data": {
      "text/plain": [
       "array([[-0.43213168, -0.40389909, -0.3756665 , ...,  0.76776346,\n",
       "         0.87295335,  1.13099691],\n",
       "       [11.92401959, 12.23498485, 12.65340514, ..., 18.99266642,\n",
       "        19.66686149, 20.51381257],\n",
       "       [ 0.30546685,  0.30684473,  0.33741222, ...,  8.32558841,\n",
       "         8.64074316,  8.66235422],\n",
       "       ...,\n",
       "       [10.90717911, 11.23966575, 11.45910452, ..., 16.64082744,\n",
       "        16.77508967, 16.97016381],\n",
       "       [12.89842606, 13.12598937, 13.23893816, ..., 37.83620322,\n",
       "        41.03030768, 44.25919551],\n",
       "       [ 1.13434476,  1.46757761,  2.4235648 , ...,  8.27388054,\n",
       "         9.65093666,  9.73393883]])"
      ]
     },
     "execution_count": 42,
     "metadata": {},
     "output_type": "execute_result"
    }
   ],
   "source": [
    "# Q3: Make a new array in which each row is sorted by expression\n",
    "data_sort_ex = np.sort(data, axis = 1)\n",
    "data_sort_ex"
   ]
  },
  {
   "cell_type": "code",
   "execution_count": 43,
   "metadata": {},
   "outputs": [
    {
     "data": {
      "text/plain": [
       "array([[-0.3756665 , -0.17803837, -0.43213168, ...,  0.3240985 ,\n",
       "         0.        ,  0.        ],\n",
       "       [18.99266642, 17.12584781, 15.75366579, ..., 12.65340514,\n",
       "        12.65996741, 16.02532604],\n",
       "       [ 8.02571818,  5.21656039,  8.20601037, ...,  0.98248355,\n",
       "         0.47489179,  0.49033104],\n",
       "       ...,\n",
       "       [16.0916765 , 14.75318162, 16.50315033, ..., 12.39676774,\n",
       "        13.1588698 , 15.77231522],\n",
       "       [26.70999365, 41.03030768, 31.16622814, ..., 13.12598937,\n",
       "        17.65022058, 13.23893816],\n",
       "       [ 7.99110466,  6.71174786,  6.78526738, ...,  1.13434476,\n",
       "         3.46700761,  2.94198626]])"
      ]
     },
     "execution_count": 43,
     "metadata": {},
     "output_type": "execute_result"
    }
   ],
   "source": [
    "# Q4: Make a new array in which the samples are sorted according to average expression.  \n",
    "# NOTE this is different than sorting each row...explain how\n",
    "#Q3 each row is seperatly sorted, but Q4 fisrtly calculate the mean value by column then do sorting\n",
    "sort_mean=np.argsort(data.mean(0)) #Returns the indices that would sort an array.\n",
    "data_sort_mean=data[:,sort_mean]\n",
    "data_sort_mean\n"
   ]
  },
  {
   "cell_type": "code",
   "execution_count": 45,
   "metadata": {},
   "outputs": [
    {
     "data": {
      "text/plain": [
       "(2212,)"
      ]
     },
     "execution_count": 45,
     "metadata": {},
     "output_type": "execute_result"
    }
   ],
   "source": [
    "# Q5: what is the total number of unique values in the table?\n",
    "np.unique(data).shape"
   ]
  },
  {
   "cell_type": "code",
   "execution_count": 47,
   "metadata": {},
   "outputs": [
    {
     "data": {
      "text/plain": [
       "array([[ 0.        ,  0.        ,  0.        , ...,  0.        ,\n",
       "         0.        ,  0.        ],\n",
       "       [15.51204642, 12.65340514, 12.23498485, ..., 18.99266642,\n",
       "        17.51985326, 15.75366579],\n",
       "       [ 0.        ,  0.        ,  0.        , ...,  0.        ,\n",
       "         0.        ,  0.        ],\n",
       "       ...,\n",
       "       [13.43586048, 12.39676774, 14.1516412 , ..., 16.0916765 ,\n",
       "        13.07139204, 16.50315033],\n",
       "       [12.89842606, 13.12598937, 15.26354089, ..., 26.70999365,\n",
       "        37.15612986, 31.16622814],\n",
       "       [ 0.        ,  0.        ,  0.        , ...,  0.        ,\n",
       "         0.        ,  0.        ]])"
      ]
     },
     "execution_count": 47,
     "metadata": {},
     "output_type": "execute_result"
    }
   ],
   "source": [
    "# Q6: Make a new array in which any cell that has less than 10 cpm is replaced with 0\n",
    "data_replace = np.where(data < 10, 0, data)\n",
    "data_replace"
   ]
  },
  {
   "cell_type": "code",
   "execution_count": 48,
   "metadata": {},
   "outputs": [],
   "source": [
    "# Q7: Make a new array that only retains genes that are expressed at > 10 cpm in at least half the samples.  (I haven't checked, maybe all genes will pass)\n"
   ]
  },
  {
   "cell_type": "code",
   "execution_count": 49,
   "metadata": {},
   "outputs": [
    {
     "data": {
      "text/plain": [
       "array([3.60950397e-01, 2.04130479e+00, 3.39034592e+00, 7.58404114e+00,\n",
       "       8.46461495e-01, 4.67922044e-01, 3.30205839e+00, 5.48029964e+00,\n",
       "       4.33871817e+00, 5.90066361e+00, 4.11562013e-02, 2.77173095e+00,\n",
       "       1.43340175e+00, 0.00000000e+00, 7.85031909e-01, 8.26674906e-02,\n",
       "       1.44487038e+01, 9.62784343e-01, 2.80115264e+00, 1.58504922e+02,\n",
       "       2.03346039e-02, 0.00000000e+00, 5.51882525e-01, 5.32543983e+00,\n",
       "       4.74090421e-01, 2.87447917e+01, 2.62469230e+01, 1.14271977e-01,\n",
       "       3.57244211e-02, 2.47983555e-02, 3.51419779e+00, 3.27304005e+01,\n",
       "       2.64537521e+00, 5.45309696e+00, 9.77382168e+01, 2.06724520e-01,\n",
       "       3.81682807e-01, 0.00000000e+00, 5.09781393e+01, 5.06926419e-02,\n",
       "       0.00000000e+00, 2.36243111e+00, 1.32389995e+01, 3.88441527e-01,\n",
       "       9.40756490e+00, 7.83859425e-02, 8.34920318e+00, 1.94814065e+01,\n",
       "       1.38436028e+00, 2.40637212e-02, 2.44224358e-01, 0.00000000e+00,\n",
       "       8.22584291e+00, 6.54660864e+00, 1.46514207e+00, 0.00000000e+00,\n",
       "       6.92428054e+00, 2.13888177e+01, 2.36448492e+00, 0.00000000e+00,\n",
       "       1.63792088e-01, 4.73745469e-02, 2.61819707e+01, 5.78289666e-01,\n",
       "       1.67275795e+00, 2.15542519e+00, 3.23447883e+00, 1.39337340e+00,\n",
       "       5.73555293e-01, 1.31847389e+02, 1.27273630e-01, 2.47505953e+01,\n",
       "       3.27692469e+00, 7.60688648e-02, 1.74563136e+01, 1.74429354e+00,\n",
       "       0.00000000e+00, 1.98209309e+00, 6.28825253e+00, 0.00000000e+00,\n",
       "       0.00000000e+00, 0.00000000e+00, 5.91801747e+00, 1.60957500e+02,\n",
       "       1.36449960e+02, 1.70271320e+00, 1.43396828e+00, 5.19704602e+00,\n",
       "       1.04767781e+00, 4.94274623e+01, 2.24289188e+00, 2.24289188e+00,\n",
       "       6.12288600e-01, 6.12288600e-01, 1.57606544e+00, 0.00000000e+00,\n",
       "       0.00000000e+00, 1.57606544e+00, 8.21732658e+00, 2.13243282e+00])"
      ]
     },
     "execution_count": 49,
     "metadata": {},
     "output_type": "execute_result"
    }
   ],
   "source": [
    "# Q9 calculate the standard deviation for each gene WITHOUT using the builtin function\n",
    "data_std = np.std(data, axis=1)\n",
    "data_std "
   ]
  },
  {
   "cell_type": "code",
   "execution_count": 50,
   "metadata": {},
   "outputs": [],
   "source": [
    "# Q9 calcualte the standard deviation for each gene WITHOUT using the builtin function"
   ]
  },
  {
   "cell_type": "code",
   "execution_count": 51,
   "metadata": {},
   "outputs": [
    {
     "data": {
      "text/plain": [
       "array([[7.67763456e-01, 3.24098503e-01, 4.19307887e-01, 1.13099691e+00,\n",
       "        0.00000000e+00, 8.72953347e-01, 0.00000000e+00, 0.00000000e+00,\n",
       "        6.03602948e-01, 0.00000000e+00],\n",
       "       [1.55120464e+01, 1.26534051e+01, 1.22349849e+01, 1.19240196e+01,\n",
       "        1.60253260e+01, 1.55811988e+01, 1.32974897e+01, 1.26599674e+01,\n",
       "        1.70910175e+01, 1.66190646e+01],\n",
       "       [7.70760805e-01, 9.82483546e-01, 7.33788803e-01, 4.87178533e-01,\n",
       "        4.90331043e-01, 7.36190656e-01, 7.53389851e-01, 4.74891792e-01,\n",
       "        3.05466853e-01, 5.62336727e-01],\n",
       "       [3.54812668e+01, 4.87690464e+01, 4.44683352e+01, 4.37802439e+01,\n",
       "        3.79066757e+01, 3.62440045e+01, 4.64650021e+01, 4.77761529e+01,\n",
       "        4.92132574e+01, 4.01588516e+01],\n",
       "       [1.22842153e+00, 2.10664027e+00, 1.04826972e+00, 1.45413888e+00,\n",
       "        9.80662086e-01, 2.47336782e+00, 1.04583942e+00, 1.10313879e+00,\n",
       "        1.35810663e+00, 3.48159898e+00],\n",
       "       [1.22842153e+00, 0.00000000e+00, 9.43442747e-01, 1.29256789e+00,\n",
       "        3.26887362e-01, 8.72953347e-01, 1.49405632e-01, 1.57591255e-01,\n",
       "        0.00000000e+00, 1.39263959e-01],\n",
       "       [9.98092493e+00, 1.41860508e+01, 1.11116590e+01, 8.24012032e+00,\n",
       "        4.73986675e+00, 5.81968898e+00, 7.02206470e+00, 1.25202943e+01,\n",
       "        6.79053317e+00, 4.17791878e+00],\n",
       "       [5.22079150e+01, 5.18557605e+01, 4.50755979e+01, 4.83097250e+01,\n",
       "        4.85427733e+01, 5.04858019e+01, 4.64651515e+01, 4.80653328e+01,\n",
       "        4.78355336e+01, 5.13884010e+01],\n",
       "       [2.32475703e+01, 1.59494059e+01, 1.64728248e+01, 1.83215036e+01,\n",
       "        1.96055599e+01, 1.88655403e+01, 1.55348988e+01, 1.69673777e+01,\n",
       "        2.00601404e+01, 2.26574106e+01],\n",
       "       [2.09630134e+01, 1.02564050e+01, 1.65867718e+01, 2.60129288e+01,\n",
       "        2.79488695e+01, 2.40062171e+01, 1.10321866e+01, 1.95413156e+01,\n",
       "        1.44864708e+01, 2.05662230e+01],\n",
       "       [0.00000000e+00, 0.00000000e+00, 0.00000000e+00, 1.61570987e-01,\n",
       "        0.00000000e+00, 0.00000000e+00, 0.00000000e+00, 0.00000000e+00,\n",
       "        1.50900737e-01, 0.00000000e+00],\n",
       "       [1.22842153e+00, 9.72295509e-01, 8.38615775e-01, 4.84712960e-01,\n",
       "        3.26887362e-01, 1.45492225e-01, 1.49405632e-01, 7.87956276e-01,\n",
       "        1.65990811e+00, 4.17791878e-01],\n",
       "       [2.30329037e+00, 2.75483728e+00, 3.14480915e+00, 4.36241664e+00,\n",
       "        4.41297939e+00, 4.07378229e+00, 2.68930137e+00, 3.46700761e+00,\n",
       "        9.05404422e-01, 1.39263959e+00],\n",
       "       [0.00000000e+00, 0.00000000e+00, 0.00000000e+00, 0.00000000e+00,\n",
       "        0.00000000e+00, 0.00000000e+00, 0.00000000e+00, 0.00000000e+00,\n",
       "        0.00000000e+00, 0.00000000e+00],\n",
       "       [1.07486884e+00, 2.91688653e+00, 2.41102035e+00, 2.90827776e+00,\n",
       "        3.43231730e+00, 8.72953347e-01, 1.04583942e+00, 6.30365021e-01,\n",
       "        3.01801474e-01, 5.57055837e-01],\n",
       "       [0.00000000e+00, 0.00000000e+00, 2.09653944e-01, 0.00000000e+00,\n",
       "        0.00000000e+00, 4.36476674e-01, 1.49405632e-01, 0.00000000e+00,\n",
       "        0.00000000e+00, 0.00000000e+00],\n",
       "       [4.59122547e+01, 4.50496919e+01, 5.46148523e+01, 7.09296631e+01,\n",
       "        6.57043598e+01, 4.55390663e+01, 4.94532642e+01, 4.53862815e+01,\n",
       "        2.44459194e+01, 4.54000507e+01],\n",
       "       [4.29947535e+00, 5.18557605e+00, 6.28961831e+00, 4.84712960e+00,\n",
       "        5.55708516e+00, 5.67419676e+00, 5.22919712e+00, 4.72773765e+00,\n",
       "        4.37612137e+00, 5.43129441e+00],\n",
       "       [7.67763456e+00, 1.11813984e+01, 9.43442747e+00, 9.69425919e+00,\n",
       "        7.02807829e+00, 9.16601015e+00, 8.81493228e+00, 6.77642397e+00,\n",
       "        9.50674643e+00, 1.11411167e+01],\n",
       "       [4.90889528e+02, 6.09467235e+02, 6.47440730e+02, 5.95227514e+02,\n",
       "        5.51356010e+02, 4.88607993e+02, 4.96592945e+02, 5.52409354e+02,\n",
       "        5.22490784e+02, 5.21778884e+02],\n",
       "       [0.00000000e+00, 0.00000000e+00, 0.00000000e+00, 0.00000000e+00,\n",
       "        0.00000000e+00, 0.00000000e+00, 0.00000000e+00, 0.00000000e+00,\n",
       "        0.00000000e+00, 0.00000000e+00],\n",
       "       [0.00000000e+00, 0.00000000e+00, 0.00000000e+00, 0.00000000e+00,\n",
       "        0.00000000e+00, 0.00000000e+00, 0.00000000e+00, 0.00000000e+00,\n",
       "        0.00000000e+00, 0.00000000e+00],\n",
       "       [1.38197422e+00, 1.62049252e+00, 4.19307887e-01, 1.29256789e+00,\n",
       "        2.12476785e+00, 1.45492225e+00, 1.34465069e+00, 1.57591255e+00,\n",
       "        1.05630516e+00, 1.11411167e+00],\n",
       "       [7.06342380e+00, 3.07893578e+00, 3.77377099e+00, 3.23141973e+00,\n",
       "        2.94198626e+00, 2.61886004e+00, 4.93038585e+00, 5.98846770e+00,\n",
       "        8.45044127e+00, 4.17791878e+00],\n",
       "       [3.12553432e-01, 3.24098503e-01, 4.19307887e-01, 5.01605206e-01,\n",
       "        8.17218405e-01, 4.36476674e-01, 1.22015546e+00, 9.45547531e-01,\n",
       "        6.03602948e-01, 4.24097750e-01],\n",
       "       [9.08827707e+01, 1.08500563e+02, 1.07865906e+02, 1.02116418e+02,\n",
       "        9.63739128e+01, 1.01479081e+02, 1.07177475e+02, 1.17754865e+02,\n",
       "        1.08016407e+02, 1.04695859e+02],\n",
       "       [1.04105346e+02, 7.25074792e+01, 1.09990749e+02, 1.08181631e+02,\n",
       "        1.33613738e+02, 1.40809703e+02, 1.09804175e+02, 1.02563068e+02,\n",
       "        1.18828747e+02, 1.24911834e+02],\n",
       "       [0.00000000e+00, 0.00000000e+00, 0.00000000e+00, 0.00000000e+00,\n",
       "        3.26887362e-01, 1.45492225e-01, 0.00000000e+00, 1.57591255e-01,\n",
       "        0.00000000e+00, 1.39263959e-01],\n",
       "       [0.00000000e+00, 0.00000000e+00, 0.00000000e+00, 1.61570987e-01,\n",
       "        0.00000000e+00, 0.00000000e+00, 0.00000000e+00, 0.00000000e+00,\n",
       "        0.00000000e+00, 0.00000000e+00],\n",
       "       [0.00000000e+00, 0.00000000e+00, 0.00000000e+00, 0.00000000e+00,\n",
       "        0.00000000e+00, 0.00000000e+00, 0.00000000e+00, 0.00000000e+00,\n",
       "        1.50900737e-01, 0.00000000e+00],\n",
       "       [6.29566034e+00, 7.61631482e+00, 6.07996437e+00, 4.84712960e+00,\n",
       "        6.86463460e+00, 6.83813455e+00, 6.12563091e+00, 5.98846770e+00,\n",
       "        7.39413611e+00, 9.01355338e+00],\n",
       "       [4.02308051e+01, 4.63460859e+01, 3.94149414e+01, 3.79691818e+01,\n",
       "        3.79189340e+01, 3.65185484e+01, 4.30288220e+01, 4.05009526e+01,\n",
       "        4.46666182e+01, 3.92714617e+01],\n",
       "       [7.00518126e+00, 7.24204587e+00, 1.04224426e+01, 1.09357868e+01,\n",
       "        7.23274246e+00, 5.76499846e+00, 6.37241913e+00, 6.06477338e+00,\n",
       "        1.63816331e+00, 5.97395036e+00],\n",
       "       [6.14210765e+00, 7.61631482e+00, 2.30619338e+00, 6.13969749e+00,\n",
       "        7.19152197e+00, 5.09222786e+00, 3.58573517e+00, 7.56438025e+00,\n",
       "        7.54503685e-01, 1.53190355e+00],\n",
       "       [5.81811147e+02, 5.83863453e+02, 4.31258162e+02, 4.62739305e+02,\n",
       "        4.71861907e+02, 4.69756565e+02, 5.49513914e+02, 6.06214161e+02,\n",
       "        5.65084026e+02, 4.44669822e+02],\n",
       "       [0.00000000e+00, 0.00000000e+00, 1.04826972e-01, 1.61570987e-01,\n",
       "        3.26887362e-01, 5.81968898e-01, 4.48216896e-01, 9.45547531e-01,\n",
       "        1.50900737e-01, 1.39263959e-01],\n",
       "       [1.38197422e+00, 3.24098503e-01, 1.04826972e-01, 0.00000000e+00,\n",
       "        0.00000000e+00, 1.45492225e-01, 1.49405632e-01, 0.00000000e+00,\n",
       "        6.03602948e-01, 1.39263959e-01],\n",
       "       [0.00000000e+00, 0.00000000e+00, 0.00000000e+00, 0.00000000e+00,\n",
       "        0.00000000e+00, 0.00000000e+00, 0.00000000e+00, 0.00000000e+00,\n",
       "        0.00000000e+00, 0.00000000e+00],\n",
       "       [5.52789688e+00, 7.45426557e+00, 4.29790584e+00, 4.68555861e+00,\n",
       "        3.26887362e+00, 4.36476674e+00, 5.07979148e+00, 5.51569393e+00,\n",
       "        6.94143390e+00, 3.89939086e+00],\n",
       "       [0.00000000e+00, 0.00000000e+00, 0.00000000e+00, 0.00000000e+00,\n",
       "        0.00000000e+00, 0.00000000e+00, 0.00000000e+00, 0.00000000e+00,\n",
       "        0.00000000e+00, 1.39263959e-01],\n",
       "       [0.00000000e+00, 0.00000000e+00, 0.00000000e+00, 0.00000000e+00,\n",
       "        0.00000000e+00, 0.00000000e+00, 0.00000000e+00, 0.00000000e+00,\n",
       "        0.00000000e+00, 0.00000000e+00],\n",
       "       [8.29184533e+00, 7.45426557e+00, 9.11994655e+00, 1.06636851e+01,\n",
       "        7.68185301e+00, 1.03299479e+01, 8.66552665e+00, 1.00858403e+01,\n",
       "        9.95944864e+00, 7.24172588e+00],\n",
       "       [3.39351448e+01, 2.96550130e+01, 3.18225335e+01, 3.63534720e+01,\n",
       "        3.39962857e+01, 4.52480818e+01, 3.54733792e+01, 3.45124849e+01,\n",
       "        3.19909562e+01, 3.87891906e+01],\n",
       "       [3.07105382e-01, 4.86147755e-01, 6.28961831e-01, 1.61570987e-01,\n",
       "        0.00000000e+00, 4.36476674e-01, 7.47028159e-01, 6.30365021e-01,\n",
       "        0.00000000e+00, 0.00000000e+00],\n",
       "       [8.36862167e+01, 7.97282318e+01, 8.86836182e+01, 8.04623513e+01,\n",
       "        9.82296523e+01, 8.22031069e+01, 8.62070496e+01, 8.99846067e+01,\n",
       "        7.86192840e+01, 9.59528680e+01],\n",
       "       [0.00000000e+00, 0.00000000e+00, 0.00000000e+00, 0.00000000e+00,\n",
       "        1.63443681e-01, 0.00000000e+00, 0.00000000e+00, 0.00000000e+00,\n",
       "        0.00000000e+00, 0.00000000e+00],\n",
       "       [6.37862486e+01, 5.67640703e+01, 4.99648327e+01, 5.01474334e+01,\n",
       "        5.43772223e+01, 5.56276426e+01, 5.72338612e+01, 5.71213143e+01,\n",
       "        5.88197492e+01, 5.29583236e+01],\n",
       "       [5.92713388e+01, 7.55149512e+01, 6.26865292e+01, 6.65672465e+01,\n",
       "        5.45901895e+01, 5.39776153e+01, 5.49812725e+01, 6.11454070e+01,\n",
       "        4.67792285e+01, 4.72104822e+01],\n",
       "       [2.45684306e+00, 3.24098503e+00, 3.45929007e+00, 3.71613269e+00,\n",
       "        4.24953571e+00, 4.07378229e+00, 3.13751827e+00, 2.83664259e+00,\n",
       "        4.82882358e+00, 4.31718274e+00],\n",
       "       [0.00000000e+00, 0.00000000e+00, 0.00000000e+00, 0.00000000e+00,\n",
       "        0.00000000e+00, 0.00000000e+00, 0.00000000e+00, 0.00000000e+00,\n",
       "        0.00000000e+00, 0.00000000e+00],\n",
       "       [1.53552691e-01, 0.00000000e+00, 0.00000000e+00, 0.00000000e+00,\n",
       "        0.00000000e+00, 0.00000000e+00, 0.00000000e+00, 0.00000000e+00,\n",
       "        0.00000000e+00, 0.00000000e+00],\n",
       "       [0.00000000e+00, 0.00000000e+00, 0.00000000e+00, 0.00000000e+00,\n",
       "        0.00000000e+00, 0.00000000e+00, 0.00000000e+00, 0.00000000e+00,\n",
       "        0.00000000e+00, 0.00000000e+00],\n",
       "       [8.80699925e+01, 7.45582124e+01, 7.84912917e+01, 6.46752502e+01,\n",
       "        7.69764167e+01, 6.87801397e+01, 7.70423587e+01, 9.11074444e+01,\n",
       "        8.16433347e+01, 6.91544435e+01],\n",
       "       [1.50481637e+01, 2.15525505e+01, 2.37957226e+01, 2.42356480e+01,\n",
       "        2.35358901e+01, 1.87684970e+01, 2.12155997e+01, 2.11172282e+01,\n",
       "        1.59954781e+01, 1.93576903e+01],\n",
       "       [2.30329037e+00, 3.24098503e+00, 2.72550127e+00, 2.75851761e+00,\n",
       "        2.61509890e+00, 2.32787559e+00, 2.09167885e+00, 3.93978138e+00,\n",
       "        4.97972432e+00, 3.20307106e+00],\n",
       "       [0.00000000e+00, 0.00000000e+00, 0.00000000e+00, 0.00000000e+00,\n",
       "        0.00000000e+00, 0.00000000e+00, 0.00000000e+00, 0.00000000e+00,\n",
       "        0.00000000e+00, 0.00000000e+00],\n",
       "       [2.97892221e+01, 2.91688653e+01, 3.30204961e+01, 3.48875384e+01,\n",
       "        3.02370810e+01, 3.21537816e+01, 3.58573516e+01, 4.57014640e+01,\n",
       "        5.29661587e+01, 4.81853299e+01],\n",
       "       [3.79275147e+01, 3.50026383e+01, 3.50122086e+01, 3.34451942e+01,\n",
       "        3.39670292e+01, 3.86680505e+01, 4.12292311e+01, 3.34093461e+01,\n",
       "        4.20921007e+01, 3.96871646e+01],\n",
       "       [1.53552691e+01, 1.70151714e+01, 1.90785089e+01, 1.61570987e+01,\n",
       "        1.61809244e+01, 1.49856991e+01, 1.19524506e+01, 1.57591255e+01,\n",
       "        1.13175553e+01, 1.46227157e+01],\n",
       "       [0.00000000e+00, 0.00000000e+00, 0.00000000e+00, 0.00000000e+00,\n",
       "        0.00000000e+00, 0.00000000e+00, 0.00000000e+00, 0.00000000e+00,\n",
       "        0.00000000e+00, 0.00000000e+00],\n",
       "       [0.00000000e+00, 0.00000000e+00, 1.04826972e-01, 3.23141973e-01,\n",
       "        1.63443681e-01, 1.45492225e-01, 0.00000000e+00, 0.00000000e+00,\n",
       "        1.50900737e-01, 0.00000000e+00],\n",
       "       [0.00000000e+00, 0.00000000e+00, 0.00000000e+00, 0.00000000e+00,\n",
       "        0.00000000e+00, 0.00000000e+00, 0.00000000e+00, 0.00000000e+00,\n",
       "        0.00000000e+00, 0.00000000e+00],\n",
       "       [1.03494514e+02, 1.08897097e+02, 1.13737264e+02, 1.05828996e+02,\n",
       "        1.13429915e+02, 1.13483935e+02, 1.18329260e+02, 1.14096069e+02,\n",
       "        9.95944864e+01, 1.16563934e+02],\n",
       "       [1.84263229e+00, 2.26868952e+00, 1.78205852e+00, 8.07854933e-01,\n",
       "        6.53774724e-01, 1.30943002e+00, 1.64346195e+00, 7.87956276e-01,\n",
       "        4.52702211e-01, 8.35583756e-01],\n",
       "       [1.07486884e+00, 9.72295509e-01, 1.57240458e+00, 7.27069439e+00,\n",
       "        3.10542994e+00, 1.16393780e+00, 1.79286758e+00, 1.26073004e+00,\n",
       "        4.52702211e-01, 4.17791878e-01],\n",
       "       [3.53171190e+00, 3.07893578e+00, 4.92686768e+00, 2.10042282e+00,\n",
       "        3.59576098e+00, 4.80124341e+00, 4.84473160e+00, 5.51569393e+00,\n",
       "        5.13062506e+00, 3.62086294e+00],\n",
       "       [6.17575104e+00, 3.82335763e+00, 6.05881028e+00, 7.03489770e+00,\n",
       "        9.58383078e+00, 1.08709462e+01, 4.89288504e+00, 5.36314559e+00,\n",
       "        3.74064819e+00, 7.62211146e+00],\n",
       "       [9.21316147e-01, 6.48197006e-01, 1.15309669e+00, 1.29256789e+00,\n",
       "        1.79788049e+00, 1.30943002e+00, 7.47028159e-01, 7.87956276e-01,\n",
       "        7.54503685e-01, 1.39263959e-01],\n",
       "       [3.07105382e-01, 8.10246258e-01, 2.09653944e-01, 1.61570987e-01,\n",
       "        1.63443681e-01, 7.27461123e-01, 4.48216896e-01, 1.57591255e-01,\n",
       "        3.01801474e-01, 4.17791878e-01],\n",
       "       [8.39933221e+01, 7.37324095e+01, 8.44905393e+01, 7.12528051e+01,\n",
       "        7.27324381e+01, 9.04961637e+01, 5.19931599e+01, 3.87674488e+01,\n",
       "        7.39413611e+01, 5.36166243e+01],\n",
       "       [3.07105382e-01, 0.00000000e+00, 3.14480916e-01, 3.23141973e-01,\n",
       "        0.00000000e+00, 0.00000000e+00, 0.00000000e+00, 1.57591255e-01,\n",
       "        0.00000000e+00, 1.39263959e-01],\n",
       "       [5.88106807e+01, 5.62310903e+01, 3.01901679e+01, 3.21526263e+01,\n",
       "        3.92264835e+01, 3.88464240e+01, 3.75008136e+01, 4.86956978e+01,\n",
       "        3.53107725e+01, 2.68779442e+01],\n",
       "       [1.19771099e+01, 1.28018909e+01, 1.37323333e+01, 1.29256789e+01,\n",
       "        8.66251509e+00, 1.07664246e+01, 1.04583942e+01, 9.77065782e+00,\n",
       "        1.01103494e+01, 9.46994923e+00],\n",
       "       [0.00000000e+00, 0.00000000e+00, 1.04826972e-01, 0.00000000e+00,\n",
       "        1.63443681e-01, 0.00000000e+00, 0.00000000e+00, 0.00000000e+00,\n",
       "        0.00000000e+00, 0.00000000e+00],\n",
       "       [7.48902579e+01, 6.59540454e+01, 6.32928484e+01, 9.63896960e+01,\n",
       "        8.52788654e+01, 6.47044660e+01, 6.85771850e+01, 7.41737912e+01,\n",
       "        6.32274088e+01, 6.74825797e+01],\n",
       "       [3.37815921e+00, 5.02352680e+00, 6.39444528e+00, 5.97812650e+00,\n",
       "        5.23019779e+00, 3.63730561e+00, 3.88454643e+00, 5.35810267e+00,\n",
       "        2.56531253e+00, 3.20307106e+00],\n",
       "       [0.00000000e+00, 0.00000000e+00, 0.00000000e+00, 0.00000000e+00,\n",
       "        0.00000000e+00, 0.00000000e+00, 0.00000000e+00, 0.00000000e+00,\n",
       "        0.00000000e+00, 0.00000000e+00],\n",
       "       [8.67724723e+00, 7.82633065e+00, 1.04844792e+01, 9.85583018e+00,\n",
       "        1.48733750e+01, 1.25123313e+01, 9.56196044e+00, 1.13465704e+01,\n",
       "        1.17702575e+01, 1.12131023e+01],\n",
       "       [1.22842153e+00, 1.45844326e+00, 1.15309669e+00, 3.23141973e-01,\n",
       "        1.47099313e+00, 2.76435227e+00, 1.94227321e+00, 2.52146008e+00,\n",
       "        3.50898538e+00, 4.87423858e+00],\n",
       "       [0.00000000e+00, 0.00000000e+00, 0.00000000e+00, 0.00000000e+00,\n",
       "        0.00000000e+00, 0.00000000e+00, 0.00000000e+00, 0.00000000e+00,\n",
       "        0.00000000e+00, 0.00000000e+00],\n",
       "       [0.00000000e+00, 0.00000000e+00, 0.00000000e+00, 0.00000000e+00,\n",
       "        0.00000000e+00, 0.00000000e+00, 0.00000000e+00, 0.00000000e+00,\n",
       "        0.00000000e+00, 0.00000000e+00],\n",
       "       [0.00000000e+00, 0.00000000e+00, 0.00000000e+00, 0.00000000e+00,\n",
       "        0.00000000e+00, 0.00000000e+00, 0.00000000e+00, 0.00000000e+00,\n",
       "        0.00000000e+00, 0.00000000e+00],\n",
       "       [4.91368612e+00, 9.72295509e+00, 7.86202289e+00, 6.94755242e+00,\n",
       "        7.84529669e+00, 5.67419676e+00, 1.85189775e+01, 1.74926293e+01,\n",
       "        1.37190952e+01, 1.51797716e+01],\n",
       "       [6.15132081e+02, 6.01202723e+02, 5.72355266e+02, 4.96022929e+02,\n",
       "        7.85020000e+02, 4.78087450e+02, 4.71972391e+02, 5.35495085e+02,\n",
       "        3.43600978e+02, 5.09427563e+02],\n",
       "       [2.49216018e+02, 3.91835090e+02, 3.24229824e+02, 3.64019433e+02,\n",
       "        4.42115157e+02, 3.17755019e+02, 3.53643131e+02, 4.51498946e+02,\n",
       "        1.60860186e+02, 2.52485558e+02],\n",
       "       [4.76013343e+00, 4.53737904e+00, 7.02340711e+00, 5.17027157e+00,\n",
       "        4.24953571e+00, 4.65575119e+00, 6.57384780e+00, 6.61883272e+00,\n",
       "        4.82882358e+00, 4.59571066e+00],\n",
       "       [3.68526459e+00, 7.29221632e+00, 6.70892620e+00, 4.36241664e+00,\n",
       "        6.70119092e+00, 4.07378229e+00, 3.13751827e+00, 5.04292016e+00,\n",
       "        2.11261032e+00, 3.20307106e+00],\n",
       "       [1.84263229e+00, 1.78254177e+00, 2.09653944e+00, 0.00000000e+00,\n",
       "        1.14410577e+00, 3.20082894e+00, 1.34465069e+00, 1.10313879e+00,\n",
       "        1.96170958e+00, 3.06380710e+00],\n",
       "       [4.60658074e-01, 1.62049252e-01, 7.33788803e-01, 4.84712960e-01,\n",
       "        0.00000000e+00, 1.45492225e-01, 2.98811264e-01, 0.00000000e+00,\n",
       "        3.01801474e-01, 2.78527919e-01],\n",
       "       [1.23609916e+02, 1.36931618e+02, 1.26735809e+02, 1.54946576e+02,\n",
       "        1.40234678e+02, 1.36180722e+02, 1.41785945e+02, 1.28279282e+02,\n",
       "        1.15740865e+02, 1.38846167e+02],\n",
       "       [8.75250340e+00, 8.42656108e+00, 7.33788803e+00, 9.37111722e+00,\n",
       "        7.92701853e+00, 1.12756474e+01, 1.09066111e+01, 8.82511029e+00,\n",
       "        1.50900737e+01, 8.63436548e+00],\n",
       "       [8.75250340e+00, 8.42656108e+00, 7.33788803e+00, 9.37111722e+00,\n",
       "        7.92701853e+00, 1.12756474e+01, 1.09066111e+01, 8.82511029e+00,\n",
       "        1.50900737e+01, 8.63436548e+00],\n",
       "       [1.61230326e+00, 3.56508353e+00, 2.04412595e+00, 2.98906325e+00,\n",
       "        2.28821153e+00, 2.98259060e+00, 3.06281545e+00, 2.67905134e+00,\n",
       "        2.56531253e+00, 2.85491117e+00],\n",
       "       [1.61230326e+00, 3.56508353e+00, 2.04412595e+00, 2.98906325e+00,\n",
       "        2.28821153e+00, 2.98259060e+00, 3.06281545e+00, 2.67905134e+00,\n",
       "        2.56531253e+00, 2.85491117e+00],\n",
       "       [1.34358605e+01, 1.23967677e+01, 1.41516412e+01, 1.48645308e+01,\n",
       "        1.57723152e+01, 1.49856991e+01, 1.34465069e+01, 1.31588698e+01,\n",
       "        1.59954781e+01, 1.45530838e+01],\n",
       "       [0.00000000e+00, 0.00000000e+00, 0.00000000e+00, 0.00000000e+00,\n",
       "        0.00000000e+00, 0.00000000e+00, 0.00000000e+00, 0.00000000e+00,\n",
       "        0.00000000e+00, 0.00000000e+00],\n",
       "       [0.00000000e+00, 0.00000000e+00, 0.00000000e+00, 0.00000000e+00,\n",
       "        0.00000000e+00, 0.00000000e+00, 0.00000000e+00, 0.00000000e+00,\n",
       "        0.00000000e+00, 0.00000000e+00],\n",
       "       [1.34358605e+01, 1.23967677e+01, 1.41516412e+01, 1.48645308e+01,\n",
       "        1.57723152e+01, 1.49856991e+01, 1.34465069e+01, 1.31588698e+01,\n",
       "        1.59954781e+01, 1.45530838e+01],\n",
       "       [1.28984261e+01, 1.31259894e+01, 1.52635409e+01, 1.45413888e+01,\n",
       "        1.32389382e+01, 2.16783415e+01, 1.74804589e+01, 1.76502206e+01,\n",
       "        2.74639341e+01, 2.40926650e+01],\n",
       "       [5.83500227e+00, 1.13434476e+00, 1.46757761e+00, 2.42356480e+00,\n",
       "        2.94198626e+00, 3.05533672e+00, 4.03395206e+00, 3.46700761e+00,\n",
       "        4.37612137e+00, 2.50675127e+00]])"
      ]
     },
     "execution_count": 51,
     "metadata": {},
     "output_type": "execute_result"
    }
   ],
   "source": [
    "# Q10 create a slice that contains the first 10 samples\n",
    "data[:,:10] "
   ]
  },
  {
   "cell_type": "code",
   "execution_count": 53,
   "metadata": {},
   "outputs": [
    {
     "data": {
      "image/png": "[encoded data removed]",
      "text/plain": [
       "<Figure size 432x288 with 1 Axes>"
      ]
     },
     "metadata": {
      "needs_background": "light"
     },
     "output_type": "display_data"
    }
   ],
   "source": [
    "# Q11 Changing topics...generate and plot a 2D random walk (see Chapter 4.7)\n",
    "import pylab\n",
    "import random\n",
    "\n",
    "n = 100000\n",
    "\n",
    "x = np.zeros(n)\n",
    "y = np.zeros(n)\n",
    "\n",
    "for i in range(1, n):\n",
    "    val = random.randint(1, 4)\n",
    "    if val == 1:\n",
    "        x[i] = x[i - 1] + 1\n",
    "        y[i] = y[i - 1]\n",
    "    elif val == 2:\n",
    "        x[i] = x[i - 1] - 1\n",
    "        y[i] = y[i - 1]\n",
    "    elif val == 3:\n",
    "        x[i] = x[i - 1]\n",
    "        y[i] = y[i - 1] + 1\n",
    "    else:\n",
    "        x[i] = x[i - 1]\n",
    "        y[i] = y[i - 1] - 1\n",
    "    \n",
    "\n",
    "#plotting stuff:\n",
    "pylab.title(\"Random Walk ($n = \" + str(n) + \"$ steps)\")\n",
    "pylab.plot(x, y)\n",
    "pylab.savefig(\"rand_walk\"+str(n)+\".png\",bbox_inches=\"tight\",dpi=600)\n",
    "pylab.show()"
   ]
  },
  {
   "cell_type": "code",
   "execution_count": null,
   "metadata": {},
   "outputs": [],
   "source": []
  }
 ],
 "metadata": {
  "kernelspec": {
   "display_name": "Python 3",
   "language": "python",
   "name": "python3"
  },
  "language_info": {
   "codemirror_mode": {
    "name": "ipython",
    "version": 3
   },
   "file_extension": ".py",
   "mimetype": "text/x-python",
   "name": "python",
   "nbconvert_exporter": "python",
   "pygments_lexer": "ipython3",
   "version": "3.6.6"
  }
 },
 "nbformat": 4,
 "nbformat_minor": 2
}
